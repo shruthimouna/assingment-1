{
 "cells": [
  {
   "cell_type": "markdown",
   "id": "853975e5",
   "metadata": {},
   "source": [
    "Write a Python program that accepts a word from the user and reverse it.\n",
    "\n",
    "\n",
    "\n",
    "Sample Test Case\n",
    "\n",
    "\n",
    "\n",
    "Input : Edyoda\n",
    "\n",
    "output: adoydE# "
   ]
  },
  {
   "cell_type": "code",
   "execution_count": 5,
   "id": "31e36148",
   "metadata": {},
   "outputs": [
    {
     "name": "stdout",
     "output_type": "stream",
     "text": [
      "enter the word is: apple\n",
      "the original word is:  apple\n",
      "the reverse word is:  elppa \n"
     ]
    }
   ],
   "source": [
    "a=input(\"enter the word is: \")\n",
    "b=\" \"\n",
    "for i in a:\n",
    "    b=i+b\n",
    "print(\"the original word is: \", a)\n",
    "print(\"the reverse word is: \", b)"
   ]
  },
  {
   "cell_type": "code",
   "execution_count": null,
   "id": "e70f7a39",
   "metadata": {},
   "outputs": [],
   "source": []
  }
 ],
 "metadata": {
  "kernelspec": {
   "display_name": "Python 3 (ipykernel)",
   "language": "python",
   "name": "python3"
  },
  "language_info": {
   "codemirror_mode": {
    "name": "ipython",
    "version": 3
   },
   "file_extension": ".py",
   "mimetype": "text/x-python",
   "name": "python",
   "nbconvert_exporter": "python",
   "pygments_lexer": "ipython3",
   "version": "3.9.13"
  }
 },
 "nbformat": 4,
 "nbformat_minor": 5
}
