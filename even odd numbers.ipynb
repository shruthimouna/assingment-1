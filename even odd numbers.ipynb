{
 "cells": [
  {
   "cell_type": "markdown",
   "id": "656cd6f4",
   "metadata": {},
   "source": [
    "# Write a Python program to count the number of even and odd numbers from a series of numbers.\n",
    "\n",
    "\n",
    "\n",
    "Sample numbers : numbers = (1, 2, 3, 4, 5, 6, 7, 8, 9) \n",
    "\n",
    "Expected Output :\n",
    "\n",
    "Number of even numbers : 4\n",
    "\n",
    "Number of odd numbers : 5"
   ]
  },
  {
   "cell_type": "code",
   "execution_count": 5,
   "id": "cf6731df",
   "metadata": {},
   "outputs": [
    {
     "name": "stdout",
     "output_type": "stream",
     "text": [
      "enter the number is: 1,2,3,4,5,6,7,8,9\n",
      "the even number is:  4\n",
      "the odd number is:  5\n"
     ]
    }
   ],
   "source": [
    "s=eval(input(\"enter the number is: \"))\n",
    "count_even=0\n",
    "count_odd=0\n",
    "for i in s:\n",
    "       if i%2==0:\n",
    "           count_even=count_even+1\n",
    "       else:\n",
    "           count_odd=count_odd+1\n",
    "print(\"the even number is: \", count_even)\n",
    "print(\"the odd number is: \", count_odd)\n",
    "    "
   ]
  },
  {
   "cell_type": "code",
   "execution_count": null,
   "id": "723c89ab",
   "metadata": {},
   "outputs": [],
   "source": []
  },
  {
   "cell_type": "code",
   "execution_count": null,
   "id": "890697bd",
   "metadata": {},
   "outputs": [],
   "source": []
  }
 ],
 "metadata": {
  "kernelspec": {
   "display_name": "Python 3 (ipykernel)",
   "language": "python",
   "name": "python3"
  },
  "language_info": {
   "codemirror_mode": {
    "name": "ipython",
    "version": 3
   },
   "file_extension": ".py",
   "mimetype": "text/x-python",
   "name": "python",
   "nbconvert_exporter": "python",
   "pygments_lexer": "ipython3",
   "version": "3.9.13"
  }
 },
 "nbformat": 4,
 "nbformat_minor": 5
}
